{
 "cells": [
  {
   "cell_type": "code",
   "execution_count": null,
   "metadata": {},
   "outputs": [],
   "source": [
    "print('김상현 간바레요')"
   ]
  },
  {
   "cell_type": "code",
   "execution_count": null,
   "metadata": {},
   "outputs": [],
   "source": [
    "#주석을 의미하낟"
   ]
  },
  {
   "cell_type": "code",
   "execution_count": null,
   "metadata": {},
   "outputs": [],
   "source": [
    "def sayhello():\n",
    "    print('hi')\n",
    "sayhello()"
   ]
  },
  {
   "cell_type": "markdown",
   "metadata": {},
   "source": [
    "# 1.3 세미콜론\n",
    "파이썬에서는 라인마다 코드를 끝날 때 세미콜론을 쓰지 않습니다. 써도 상관은 없지만 필수 요소는 아닙니다. 다만 코드가 연달아 이어질때 단지 구분하기 요소로 쓰일 수 있는 있습니다.\n",
    "print('hi') ; print('bye')"
   ]
  },
  {
   "cell_type": "markdown",
   "metadata": {},
   "source": [
    "\n",
    "# 기본 입출력\n",
    "여기서 다뤄지는 내용은 파이썬의 가장 기본적인 입출력 기능에 대해서 다룹니다. 보다 자세한 내용은 후반분에서 다루어지며 지금은 기본 코드를 작성하고 확인하는 과정에서 필요한 내용입니다."
   ]
  },
  {
   "cell_type": "code",
   "execution_count": null,
   "metadata": {},
   "outputs": [],
   "source": [
    "print('2018 '+'캡스톤')\n",
    "print(str(2018 )+' 캡스톤')# 데이터 변환 자동으로 안해줌 숫자에서 문자를 내가 변화해줘야댐"
   ]
  },
  {
   "cell_type": "code",
   "execution_count": null,
   "metadata": {},
   "outputs": [],
   "source": [
    "print('hi','hello')"
   ]
  },
  {
   "cell_type": "code",
   "execution_count": null,
   "metadata": {},
   "outputs": [],
   "source": [
    "print(1,2,3,4, sep=':')\n",
    "print(1,2,3,4, sep='&')\n",
    "print(2,4, sep=' x ')\n",
    "print('hello','my','world',sep='\\n')#공백 사이에 :를 넣고 싶으면 sep='' 사이에 넣으면 된다. \\n은 줄 바꿈"
   ]
  },
  {
   "cell_type": "markdown",
   "metadata": {},
   "source": [
    "# 한줄에 여러값을 출력하지만 값 사이에 공백을 넣는경우"
   ]
  },
  {
   "cell_type": "code",
   "execution_count": null,
   "metadata": {},
   "outputs": [],
   "source": [
    "print(1,2,3, end=' ') # 한줄에 여러값 출력\n",
    "print(4,5,6)"
   ]
  },
  {
   "cell_type": "markdown",
   "metadata": {},
   "source": [
    "# 이어지는 값사이에 공백없이 출력하는 경우"
   ]
  },
  {
   "cell_type": "code",
   "execution_count": null,
   "metadata": {},
   "outputs": [],
   "source": [
    "print(1,2,3, end='')\n",
    "print(4,5,6)"
   ]
  },
  {
   "cell_type": "markdown",
   "metadata": {},
   "source": [
    "# seperator 와 end 요소를 이용하여 값들을 한 라인에 표현하는 예제"
   ]
  },
  {
   "cell_type": "code",
   "execution_count": null,
   "metadata": {},
   "outputs": [],
   "source": [
    "print(1,2,3, sep = ' : ', end=' &')\n",
    "print(' : ', end = '')\n",
    "print(4,5,6, sep= ' : ')"
   ]
  },
  {
   "cell_type": "markdown",
   "metadata": {},
   "source": [
    "#  2.1.3 print() 포맷 처리\n",
    "print 함수를 이용하여 문자열을 출력할 때 또 다른 방법인 format 이용할 수 있습니다. 기본 형태는 print('{}'.format(출력문자열))\n",
    "print 함수 내에 있는 중괄호가 format 함수 내에 있는 출력문자열을 대체하게 됩니다. "
   ]
  },
  {
   "cell_type": "code",
   "execution_count": null,
   "metadata": {},
   "outputs": [],
   "source": [
    "print('{},{}'.format('hello','world'))"
   ]
  },
  {
   "cell_type": "code",
   "execution_count": null,
   "metadata": {},
   "outputs": [],
   "source": [
    "print('내 이름은 {} 입니다'.format('김상현'))"
   ]
  },
  {
   "cell_type": "markdown",
   "metadata": {},
   "source": [
    "# 2.2 사용자 입력처리"
   ]
  },
  {
   "cell_type": "code",
   "execution_count": 1,
   "metadata": {},
   "outputs": [
    {
     "name": "stdout",
     "output_type": "stream",
     "text": [
      "당신의 이름은DF\n",
      "당신의 이름은DF입니다\n"
     ]
    }
   ],
   "source": [
    "inputvalue = input('당신의 이름은')\n",
    "\n",
    "print('당신의 이름은'+inputvalue+'입니다')"
   ]
  },
  {
   "cell_type": "markdown",
   "metadata": {},
   "source": [
    "# 숫자로 입력하여도 문자열로 인식되는 예제2"
   ]
  },
  {
   "cell_type": "code",
   "execution_count": 2,
   "metadata": {},
   "outputs": [
    {
     "name": "stdout",
     "output_type": "stream",
     "text": [
      "첫번째 숫자 입력하세요1\n",
      "두번째 숫자 입력하세요2\n",
      "12\n"
     ]
    }
   ],
   "source": [
    "x = input('첫번째 숫자 입력하세요')\n",
    "\n",
    "y= input('두번째 숫자 입력하세요')\n",
    "print(x+y)"
   ]
  },
  {
   "cell_type": "markdown",
   "metadata": {},
   "source": [
    "# 숫자로 입력받고 싶을 경우"
   ]
  },
  {
   "cell_type": "code",
   "execution_count": 3,
   "metadata": {},
   "outputs": [
    {
     "name": "stdout",
     "output_type": "stream",
     "text": [
      "첫번째 숫자 입력하세요1\n",
      "두번째 숫자 입력하세요2\n",
      "3\n"
     ]
    }
   ],
   "source": [
    "x = int(input('첫번째 숫자 입력하세요'))\n",
    "\n",
    "y= int(input('두번째 숫자 입력하세요'))\n",
    "print(x+y)"
   ]
  },
  {
   "cell_type": "markdown",
   "metadata": {},
   "source": [
    "# 연산자\n",
    "프로그래밍 언어는 기본적으로 수에 대한 연산을 얼마나 빨리 인간을 대신하여 처리해주는 것이 주 목적중의 하나 입니다."
   ]
  },
  {
   "cell_type": "markdown",
   "metadata": {},
   "source": [
    "# 3.1기본연산자"
   ]
  },
  {
   "cell_type": "code",
   "execution_count": 11,
   "metadata": {},
   "outputs": [
    {
     "name": "stdout",
     "output_type": "stream",
     "text": [
      "3\n",
      "-1\n",
      "6\n",
      "0.6666666666666666\n",
      "0\n",
      "3\n",
      "81\n"
     ]
    }
   ],
   "source": [
    "print(1+2)\n",
    "print(2-3)\n",
    "print(2*3)\n",
    "print(2/3)\n",
    "print(3//4) # 몫만을 구해준다\n",
    "print(3%4) # 나머지 연산자\n",
    "print(3**4)# 지수 연산자"
   ]
  },
  {
   "cell_type": "code",
   "execution_count": 13,
   "metadata": {},
   "outputs": [
    {
     "name": "stdout",
     "output_type": "stream",
     "text": [
      "XOR :  4\n"
     ]
    }
   ],
   "source": [
    "# ^ 는 비트 연산자 \n",
    "a = 6\n",
    "b = 2\n",
    "result = a^b\n",
    "print('XOR : ', result) "
   ]
  },
  {
   "cell_type": "code",
   "execution_count": 15,
   "metadata": {},
   "outputs": [
    {
     "name": "stdout",
     "output_type": "stream",
     "text": [
      "당신의 키를 소수점 둘째자리까지 입력하세요3939393939.333\n",
      "키 : 3939393939.333\n",
      "키 : 3939393939\n"
     ]
    }
   ],
   "source": [
    "#실수의 반올림\n",
    "height = float(input('당신의 키를 소수점 둘째자리까지 입력하세요'))\n",
    "print('키 :', height)\n",
    "print('키 :', round(height))"
   ]
  },
  {
   "cell_type": "code",
   "execution_count": 25,
   "metadata": {},
   "outputs": [
    {
     "name": "stdout",
     "output_type": "stream",
     "text": [
      "나는 현금이 얼마가 있는가3000\n",
      "사탕의 가격은 얼마인가70\n",
      "나는 사탕을42개 살 수있다\n"
     ]
    }
   ],
   "source": [
    "a=int(input(\"나는 현금이 얼마가 있는가\"))\n",
    "b=int(input('사탕의 가격은 얼마인가'))\n",
    "print('나는 사탕을'+ str(a//b) +'개 살 수있다')"
   ]
  },
  {
   "cell_type": "code",
   "execution_count": 36,
   "metadata": {},
   "outputs": [
    {
     "name": "stdout",
     "output_type": "stream",
     "text": [
      "False\n",
      "True\n"
     ]
    }
   ],
   "source": [
    "print(True and (3==2))\n",
    "print(True or not (3==2))"
   ]
  },
  {
   "cell_type": "markdown",
   "metadata": {},
   "source": [
    "# 비트 연산자\n",
    "* & : 두 수가 모두 True 일 때만 True\n",
    "* | : 두 수 중에서 최소 하나만 True 이면 True\n",
    "* ^ : 두 수가 서로 다를때만 True\n",
    "* ~ : 해당하는 수의 비트를 반전시킴"
   ]
  },
  {
   "cell_type": "code",
   "execution_count": 35,
   "metadata": {},
   "outputs": [
    {
     "data": {
      "text/plain": [
       "-14"
      ]
     },
     "execution_count": 35,
     "metadata": {},
     "output_type": "execute_result"
    }
   ],
   "source": [
    "3&7\n",
    "3|7\n",
    "3^7\n",
    "~13"
   ]
  },
  {
   "cell_type": "markdown",
   "metadata": {},
   "source": [
    "# 연산자 우선수위\n",
    "1.지수 연산자\n",
    "<br>2.곱셈 나눗셈\n",
    "<br>3.덧셈 뺄셈\n"
   ]
  },
  {
   "cell_type": "markdown",
   "metadata": {},
   "source": [
    "# 4. 변수"
   ]
  },
  {
   "cell_type": "code",
   "execution_count": 40,
   "metadata": {},
   "outputs": [
    {
     "data": {
      "text/plain": [
       "'0b1010'"
      ]
     },
     "execution_count": 40,
     "metadata": {},
     "output_type": "execute_result"
    }
   ],
   "source": [
    "#10진수 <-> 2진수 변환\n",
    "bin(10)"
   ]
  },
  {
   "cell_type": "code",
   "execution_count": 41,
   "metadata": {},
   "outputs": [
    {
     "data": {
      "text/plain": [
       "10"
      ]
     },
     "execution_count": 41,
     "metadata": {},
     "output_type": "execute_result"
    }
   ],
   "source": [
    "int('0b1010',2)"
   ]
  },
  {
   "cell_type": "code",
   "execution_count": 42,
   "metadata": {},
   "outputs": [
    {
     "data": {
      "text/plain": [
       "'0o12'"
      ]
     },
     "execution_count": 42,
     "metadata": {},
     "output_type": "execute_result"
    }
   ],
   "source": [
    "#10진수 <-> 8진수 변환\n",
    "oct(10)"
   ]
  },
  {
   "cell_type": "code",
   "execution_count": 43,
   "metadata": {},
   "outputs": [
    {
     "data": {
      "text/plain": [
       "10"
      ]
     },
     "execution_count": 43,
     "metadata": {},
     "output_type": "execute_result"
    }
   ],
   "source": [
    "int('0o12',8)"
   ]
  },
  {
   "cell_type": "code",
   "execution_count": 44,
   "metadata": {},
   "outputs": [
    {
     "data": {
      "text/plain": [
       "(1, 0, 0)"
      ]
     },
     "execution_count": 44,
     "metadata": {},
     "output_type": "execute_result"
    }
   ],
   "source": [
    "1,000,000"
   ]
  },
  {
   "cell_type": "code",
   "execution_count": 47,
   "metadata": {},
   "outputs": [
    {
     "name": "stdout",
     "output_type": "stream",
     "text": [
      "1\n",
      "0\n",
      "0\n"
     ]
    }
   ],
   "source": [
    "a, b, c = 1,000,000\n",
    "print(a)\n",
    "print(b)\n",
    "print(c)"
   ]
  },
  {
   "cell_type": "code",
   "execution_count": 53,
   "metadata": {},
   "outputs": [
    {
     "name": "stdout",
     "output_type": "stream",
     "text": [
      "Brown's house\n",
      "\n",
      "\n",
      "he said \"l am happy\"\n"
     ]
    }
   ],
   "source": [
    "strData = \"Brown's house\"\n",
    "print(strData); print('\\n')\n",
    "strData2 = 'he said \"l am happy\"'\n",
    "print(strData2)\n"
   ]
  },
  {
   "cell_type": "code",
   "execution_count": 63,
   "metadata": {},
   "outputs": [
    {
     "name": "stdout",
     "output_type": "stream",
     "text": [
      "he said \"l'm happy\"\n"
     ]
    },
    {
     "data": {
      "text/plain": [
       "'he said \"l\\'m happy\"'"
      ]
     },
     "execution_count": 63,
     "metadata": {},
     "output_type": "execute_result"
    }
   ],
   "source": [
    "d = 'he said \"l\\'m happy\"'\n",
    "print(d)"
   ]
  },
  {
   "cell_type": "code",
   "execution_count": 70,
   "metadata": {},
   "outputs": [
    {
     "name": "stdout",
     "output_type": "stream",
     "text": [
      "\n",
      "우리가 지금\n",
      "여기에 있는 이유는\n",
      "캡스톤을 하기 위해서\n",
      "입니다\n",
      "\n"
     ]
    }
   ],
   "source": [
    "c = '''\n",
    "우리가 지금\n",
    "여기에 있는 이유는\n",
    "캡스톤을 하기 위해서\n",
    "입니다\n",
    "'''\n",
    "print(c)"
   ]
  },
  {
   "cell_type": "markdown",
   "metadata": {},
   "source": [
    "# 4.2.2 문자열 처리"
   ]
  },
  {
   "cell_type": "code",
   "execution_count": 71,
   "metadata": {},
   "outputs": [
    {
     "ename": "TypeError",
     "evalue": "'str' object does not support item assignment",
     "output_type": "error",
     "traceback": [
      "\u001b[1;31m---------------------------------------------------------------------------\u001b[0m",
      "\u001b[1;31mTypeError\u001b[0m                                 Traceback (most recent call last)",
      "\u001b[1;32m<ipython-input-71-f11643409921>\u001b[0m in \u001b[0;36m<module>\u001b[1;34m()\u001b[0m\n\u001b[0;32m      1\u001b[0m \u001b[0mstrData\u001b[0m \u001b[1;33m=\u001b[0m \u001b[1;34m'hello'\u001b[0m\u001b[1;33m\u001b[0m\u001b[0m\n\u001b[1;32m----> 2\u001b[1;33m \u001b[0mstrData\u001b[0m\u001b[1;33m[\u001b[0m\u001b[1;36m2\u001b[0m\u001b[1;33m]\u001b[0m \u001b[1;33m=\u001b[0m \u001b[1;34m'k'\u001b[0m\u001b[1;33m\u001b[0m\u001b[0m\n\u001b[0m",
      "\u001b[1;31mTypeError\u001b[0m: 'str' object does not support item assignment"
     ]
    }
   ],
   "source": [
    "strData = 'hello'\n",
    "strData[2] = 'k'"
   ]
  },
  {
   "cell_type": "code",
   "execution_count": 73,
   "metadata": {},
   "outputs": [
    {
     "data": {
      "text/plain": [
       "'hkllo'"
      ]
     },
     "execution_count": 73,
     "metadata": {},
     "output_type": "execute_result"
    }
   ],
   "source": [
    "newStrData = strData.replace('e','k') # replace 함수를 이용한 문자열 변경하여 새로운 문자열 생성\n",
    "newStrData"
   ]
  },
  {
   "cell_type": "code",
   "execution_count": 77,
   "metadata": {},
   "outputs": [
    {
     "data": {
      "text/plain": [
       "'heklo'"
      ]
     },
     "execution_count": 77,
     "metadata": {},
     "output_type": "execute_result"
    }
   ],
   "source": [
    "strData[1:3]\n",
    "strData[:2] + 'k'+ strData[3:]"
   ]
  },
  {
   "cell_type": "code",
   "execution_count": 81,
   "metadata": {},
   "outputs": [
    {
     "data": {
      "text/plain": [
       "'hel'"
      ]
     },
     "execution_count": 81,
     "metadata": {},
     "output_type": "execute_result"
    }
   ],
   "source": [
    "strData[0:-2] # 마이너스 사용시 hello는 맨 마지막이 -1"
   ]
  },
  {
   "cell_type": "code",
   "execution_count": 84,
   "metadata": {},
   "outputs": [
    {
     "name": "stdout",
     "output_type": "stream",
     "text": [
      "hell yes no\n"
     ]
    }
   ],
   "source": [
    "strData1 = 'hell'\n",
    "strData2 =' yes'\n",
    "strData3 = ' no'\n",
    "plus = strData1 + strData2 + strData3\n",
    "print(plus)"
   ]
  },
  {
   "cell_type": "code",
   "execution_count": 85,
   "metadata": {},
   "outputs": [
    {
     "name": "stdout",
     "output_type": "stream",
     "text": [
      "==========\n"
     ]
    }
   ],
   "source": [
    "print('=' * 10)"
   ]
  },
  {
   "cell_type": "code",
   "execution_count": 87,
   "metadata": {},
   "outputs": [
    {
     "name": "stdout",
     "output_type": "stream",
     "text": [
      "==========\n",
      "=        =\n",
      "=        =\n",
      "=        =\n",
      "==========\n"
     ]
    }
   ],
   "source": [
    "print('='*10)\n",
    "for i in range(3):\n",
    "    print('=', end = ''); print(' '*8, end = ''); print('=')\n",
    "print('='*10)"
   ]
  },
  {
   "cell_type": "code",
   "execution_count": 88,
   "metadata": {},
   "outputs": [
    {
     "name": "stdout",
     "output_type": "stream",
     "text": [
      "=        =\n",
      "=        =\n",
      "=        =\n"
     ]
    }
   ],
   "source": [
    "for i in range(3):\n",
    "    print('=        =')"
   ]
  },
  {
   "cell_type": "code",
   "execution_count": 90,
   "metadata": {},
   "outputs": [
    {
     "name": "stdout",
     "output_type": "stream",
     "text": [
      "l l h\n"
     ]
    }
   ],
   "source": [
    "strData = 'hello, my world'\n",
    "print(strData[2], strData[3], strData[0])"
   ]
  },
  {
   "cell_type": "markdown",
   "metadata": {},
   "source": [
    "# 문자열 슬라이싱\n",
    "문자열 변수명 [시작인덱스 : 종료 인덱스 : 오프셋] -> 오프셋은 건너뛰는 간격을 말한다,"
   ]
  },
  {
   "cell_type": "code",
   "execution_count": null,
   "metadata": {},
   "outputs": [],
   "source": [
    "strData = '123456789'\n",
    "strData[0:5:2]"
   ]
  },
  {
   "cell_type": "markdown",
   "metadata": {},
   "source": [
    "# 문자열 처리를 위한 %s 정수는 %d format"
   ]
  },
  {
   "cell_type": "code",
   "execution_count": 98,
   "metadata": {},
   "outputs": [
    {
     "name": "stdout",
     "output_type": "stream",
     "text": [
      "l have nice cars \n"
     ]
    }
   ],
   "source": [
    "strData = 'l have %s cars ' %'nice'\n",
    "print(strData)"
   ]
  },
  {
   "cell_type": "code",
   "execution_count": 99,
   "metadata": {},
   "outputs": [
    {
     "name": "stdout",
     "output_type": "stream",
     "text": [
      " have nice 3 cars\n"
     ]
    }
   ],
   "source": [
    "strData =' have %s %d cars' %('nice', 3)\n",
    "print(strData)"
   ]
  },
  {
   "cell_type": "code",
   "execution_count": 102,
   "metadata": {},
   "outputs": [
    {
     "name": "stdout",
     "output_type": "stream",
     "text": [
      "|hello               |\n",
      "|               hello|\n"
     ]
    }
   ],
   "source": [
    "strData= '|' + '%-20s' % 'hello' + '|'\n",
    "strData2= '|' + '%20s' %'hello' + '|'\n",
    "print(strData)\n",
    "print(strData2)\n",
    "#%-숫자s <- 숫자 만큼의 공간을 설정학고 그 영역에서 빼기 부호가 있으면 왼쪽 정렬 없으면 오른쪽 정렬"
   ]
  },
  {
   "cell_type": "code",
   "execution_count": 105,
   "metadata": {},
   "outputs": [
    {
     "name": "stdout",
     "output_type": "stream",
     "text": [
      "|345.1231            |\n"
     ]
    }
   ],
   "source": [
    "strData = '|' + '%-20.4f' %345.1231244+'|'\n",
    "print(strData)\n",
    "# 4f 이면 넷째짜리까지 보여줘라"
   ]
  },
  {
   "cell_type": "code",
   "execution_count": 107,
   "metadata": {},
   "outputs": [
    {
     "name": "stdout",
     "output_type": "stream",
     "text": [
      "l have 2 cars\n"
     ]
    }
   ],
   "source": [
    "strData = 'l have {} cars'.format(2)\n",
    "print(strData)"
   ]
  },
  {
   "cell_type": "code",
   "execution_count": 109,
   "metadata": {},
   "outputs": [
    {
     "name": "stdout",
     "output_type": "stream",
     "text": [
      "l have nice 3 cars\n"
     ]
    }
   ],
   "source": [
    "strData = 'l have {shape} {num} cars'.format(shape = 'nice', num = 3)\n",
    "print(strData)"
   ]
  },
  {
   "cell_type": "code",
   "execution_count": 111,
   "metadata": {},
   "outputs": [
    {
     "name": "stdout",
     "output_type": "stream",
     "text": [
      "l have nice 3 car\n"
     ]
    }
   ],
   "source": [
    "shape = 'nice'\n",
    "num=  '3'\n",
    "strData = 'l have {} {} car'.format(shape, num)\n",
    "print(strData)"
   ]
  },
  {
   "cell_type": "code",
   "execution_count": 112,
   "metadata": {},
   "outputs": [
    {
     "data": {
      "text/plain": [
       "'HI'"
      ]
     },
     "execution_count": 112,
     "metadata": {},
     "output_type": "execute_result"
    }
   ],
   "source": [
    "'hi'.upper()"
   ]
  },
  {
   "cell_type": "code",
   "execution_count": 114,
   "metadata": {},
   "outputs": [
    {
     "data": {
      "text/plain": [
       "'hi'"
      ]
     },
     "execution_count": 114,
     "metadata": {},
     "output_type": "execute_result"
    }
   ],
   "source": [
    "'HI'.lower()"
   ]
  },
  {
   "cell_type": "markdown",
   "metadata": {},
   "source": [
    "# 문자열 나누기"
   ]
  },
  {
   "cell_type": "code",
   "execution_count": 115,
   "metadata": {},
   "outputs": [
    {
     "name": "stdout",
     "output_type": "stream",
     "text": [
      "['this', 'is', 'my', 'home.', 'where', 'do', 'you', 'live']\n"
     ]
    }
   ],
   "source": [
    "strData = 'this is my home. where do you live'\n",
    "result = strData.split()\n",
    "print(result)"
   ]
  },
  {
   "cell_type": "code",
   "execution_count": 120,
   "metadata": {},
   "outputs": [
    {
     "name": "stdout",
     "output_type": "stream",
     "text": [
      "['this is ', 'y ho', 'e. where do you live']\n",
      "['this is ', ' home. where do you live']\n"
     ]
    }
   ],
   "source": [
    "strData = 'this is my home. where do you live'\n",
    "result = strData.split('m')\n",
    "result2 = strData.split('my')\n",
    "print(result)\n",
    "print(result2)"
   ]
  },
  {
   "cell_type": "code",
   "execution_count": 121,
   "metadata": {},
   "outputs": [
    {
     "name": "stdout",
     "output_type": "stream",
     "text": [
      " this is your home\n"
     ]
    }
   ],
   "source": [
    "strData = ' this is my home'\n",
    "strReplace = strData.replace('my', 'your')\n",
    "print(strReplace)"
   ]
  },
  {
   "cell_type": "code",
   "execution_count": 126,
   "metadata": {},
   "outputs": [
    {
     "name": "stdout",
     "output_type": "stream",
     "text": [
      "h는 인덱스 17에 있습니다\n"
     ]
    }
   ],
   "source": [
    "strData = 'this is my home, where do you live'\n",
    "index = strData.find('w')\n",
    "index\n",
    "print('h는 인덱스 {}에 있습니다'.format(index))"
   ]
  },
  {
   "cell_type": "code",
   "execution_count": 128,
   "metadata": {},
   "outputs": [
    {
     "name": "stdout",
     "output_type": "stream",
     "text": [
      "ahellochellobhellod\n",
      "a b c d e\n"
     ]
    }
   ],
   "source": [
    "strData = 'hello'\n",
    "strResult = strData.join('acbd')\n",
    "print(strResult)\n",
    "\n",
    "strData = ' '\n",
    "strResult = strData.join('abcde')\n",
    "print(strResult)"
   ]
  },
  {
   "cell_type": "code",
   "execution_count": 130,
   "metadata": {},
   "outputs": [
    {
     "name": "stdout",
     "output_type": "stream",
     "text": [
      "hello                  \n"
     ]
    }
   ],
   "source": [
    "strData = '            hello                  '\n",
    "strResult = strData.lstrip() # 양쪽 다 지울 때는 strip, 오른쪽 공백은 rstrip\n",
    "print(strResult)"
   ]
  },
  {
   "cell_type": "markdown",
   "metadata": {},
   "source": [
    "# 5. if 조건문\n",
    "if 조건문 1:\n",
    "    <br>코드\n",
    "<br>elif 조건문2 :\n",
    "    <br>코드\n",
    "<br>elif 조건문 n :\n",
    "    <br>코드\n",
    "<br>else:\n",
    "    <br>코드"
   ]
  },
  {
   "cell_type": "code",
   "execution_count": 131,
   "metadata": {},
   "outputs": [
    {
     "name": "stdout",
     "output_type": "stream",
     "text": [
      "정수를 입력하세요3\n",
      "홀수\n"
     ]
    }
   ],
   "source": [
    "x = int(input('정수를 입력하세요 '))\n",
    "if x % 2 == 0:\n",
    "    print('짝수')\n",
    "else:\n",
    "    print('홀수')"
   ]
  },
  {
   "cell_type": "code",
   "execution_count": 133,
   "metadata": {},
   "outputs": [
    {
     "name": "stdout",
     "output_type": "stream",
     "text": [
      "정수를 입력하세요2\n",
      "양수\n"
     ]
    }
   ],
   "source": [
    "x = int(input('정수를 입력하세요'))\n",
    "if x>0 :\n",
    "    print('양수')\n",
    "elif x<0:\n",
    "    print('홀수')\n",
    "else:\n",
    "    print('0')"
   ]
  },
  {
   "cell_type": "code",
   "execution_count": 136,
   "metadata": {},
   "outputs": [
    {
     "name": "stdout",
     "output_type": "stream",
     "text": [
      "색깔을 문자열로 입력하시오eke\n",
      "지정되지 않은 색깔 입니다 eke\n"
     ]
    }
   ],
   "source": [
    "color = input('색깔을 문자열로 입력하시오')\n",
    "if color == 'red':\n",
    "    print('빨강')\n",
    "elif color =='blue':\n",
    "    print('파랑')\n",
    "else:\n",
    "    print('지정되지 않은 색깔 입니다',color)"
   ]
  },
  {
   "cell_type": "code",
   "execution_count": 138,
   "metadata": {},
   "outputs": [
    {
     "name": "stdout",
     "output_type": "stream",
     "text": [
      "점심 먹으러 갈까요y\n",
      "햄버거 드싈?n\n",
      "다른거 골라\n"
     ]
    }
   ],
   "source": [
    "lunchtime = input('점심 먹으러 갈까요')\n",
    "if lunchtime == 'y':\n",
    "    whattoeat = input('햄버거 드싈?')\n",
    "    if whattoeat == 'y':\n",
    "        print('점심은 햄버거')\n",
    "    else:\n",
    "        print('다른거 골라')\n",
    "else:\n",
    "    print('점심 안머금요 ㅅㄱ')\n",
    "        "
   ]
  },
  {
   "cell_type": "markdown",
   "metadata": {},
   "source": [
    "# while 함수"
   ]
  },
  {
   "cell_type": "code",
   "execution_count": 140,
   "metadata": {},
   "outputs": [
    {
     "name": "stdout",
     "output_type": "stream",
     "text": [
      "짝수를 입력하면 종료됩니다\n",
      "정수를 입력하세요1\n",
      "정수를 입력하세요3\n",
      "정수를 입력하세요5\n",
      "정수를 입력하세요7\n",
      "정수를 입력하세요6\n",
      "종료 : 6\n"
     ]
    }
   ],
   "source": [
    "print('짝수를 입력하면 종료됩니다')\n",
    "num = -1\n",
    "while num % 2 != 0:\n",
    "    num = int(input('정수를 입력하세요'))\n",
    "print ('종료 :', num )"
   ]
  },
  {
   "cell_type": "code",
   "execution_count": 143,
   "metadata": {},
   "outputs": [
    {
     "name": "stdout",
     "output_type": "stream",
     "text": [
      "짝수를 입력하면 종료됩니다\n",
      "정수 입력2\n",
      "종료 2\n"
     ]
    }
   ],
   "source": [
    "print('짝수를 입력하면 종료됩니다')\n",
    "num = -1\n",
    "while  True :\n",
    "    num = int(input('정수 입력'))\n",
    "    if num % 2 == 0:\n",
    "        break\n",
    "print('종료', num)"
   ]
  },
  {
   "cell_type": "code",
   "execution_count": 144,
   "metadata": {},
   "outputs": [
    {
     "name": "stdout",
     "output_type": "stream",
     "text": [
      "0\n",
      "1\n",
      "2\n",
      "3\n",
      "4\n",
      "5\n",
      "6\n",
      "7\n",
      "8\n",
      "9\n"
     ]
    }
   ],
   "source": [
    "for x in range(10):\n",
    "    print(x)"
   ]
  },
  {
   "cell_type": "code",
   "execution_count": 145,
   "metadata": {},
   "outputs": [
    {
     "name": "stdout",
     "output_type": "stream",
     "text": [
      "1\n",
      "3\n",
      "5\n",
      "7\n",
      "9\n"
     ]
    }
   ],
   "source": [
    "for x in range(10):\n",
    "    if x %2 == 1:\n",
    "        print(x)"
   ]
  },
  {
   "cell_type": "code",
   "execution_count": 151,
   "metadata": {},
   "outputs": [
    {
     "name": "stdout",
     "output_type": "stream",
     "text": [
      "중단된 지점의 숫자 : 8\n"
     ]
    }
   ],
   "source": [
    "for x in range(10):\n",
    "    if x == 8 :\n",
    "        break\n",
    "print('중단된 지점의 숫자 :' ,x)"
   ]
  },
  {
   "cell_type": "code",
   "execution_count": 152,
   "metadata": {},
   "outputs": [
    {
     "name": "stdout",
     "output_type": "stream",
     "text": [
      "음수를 입력하면 종료됩니다\n",
      "정수를 입력해3\n",
      "정수를 입력해4\n",
      "정수를 입력해-1\n"
     ]
    }
   ],
   "source": [
    "print('음수를 입력하면 종료됩니다')\n",
    "while True :\n",
    "    num = int(input('정수를 입력해'))\n",
    "    if num >= 0:\n",
    "        continue\n",
    "    break"
   ]
  },
  {
   "cell_type": "code",
   "execution_count": 154,
   "metadata": {},
   "outputs": [
    {
     "name": "stdout",
     "output_type": "stream",
     "text": [
      "dfdf4\n",
      "dfdf5\n",
      "dfdf0\n",
      "dfdf-1\n"
     ]
    }
   ],
   "source": [
    "while True:\n",
    "    num = int(input('dfdf'))\n",
    "    if num >0:\n",
    "        continue\n",
    "    elif num == 0 :\n",
    "        pass\n",
    "    else:\n",
    "        break"
   ]
  },
  {
   "cell_type": "markdown",
   "metadata": {},
   "source": [
    "# 자료구조\n",
    "*set\n",
    "<br>*list\n",
    "<br>*dictionary\n",
    "<br>*tuple"
   ]
  },
  {
   "cell_type": "code",
   "execution_count": null,
   "metadata": {},
   "outputs": [],
   "source": []
  }
 ],
 "metadata": {
  "kernelspec": {
   "display_name": "Python 3",
   "language": "python",
   "name": "python3"
  },
  "language_info": {
   "codemirror_mode": {
    "name": "ipython",
    "version": 3
   },
   "file_extension": ".py",
   "mimetype": "text/x-python",
   "name": "python",
   "nbconvert_exporter": "python",
   "pygments_lexer": "ipython3",
   "version": "3.6.5"
  }
 },
 "nbformat": 4,
 "nbformat_minor": 2
}
