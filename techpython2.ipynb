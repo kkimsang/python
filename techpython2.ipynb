{
 "cells": [
  {
   "cell_type": "markdown",
   "metadata": {},
   "source": [
    "# 자료구조\n",
    "*set : 집합을 구성할 수 있는 자료구조. 중복된 자료는 자료는 존재하지 않고 오직 하나씩만 존재하는 자료들로 이루어진 집합.순서없음"
   ]
  },
  {
   "cell_type": "code",
   "execution_count": null,
   "metadata": {},
   "outputs": [],
   "source": [
    "mystring = 'abcdefghilaenfnadnfargaorgnjandf'\n",
    "\n",
    "mystring"
   ]
  },
  {
   "cell_type": "code",
   "execution_count": null,
   "metadata": {},
   "outputs": [],
   "source": [
    "mystring[0:11:2]"
   ]
  },
  {
   "cell_type": "code",
   "execution_count": null,
   "metadata": {},
   "outputs": [],
   "source": [
    "strlength = len(mystring)\n",
    "i=1\n",
    "while True:\n",
    "    i+=1\n",
    "    if i%2:\n",
    "        print(mystring[i])\n",
    "    elif i >strlength :\n",
    "        break\n",
    "    else:\n",
    "        pass"
   ]
  },
  {
   "cell_type": "code",
   "execution_count": null,
   "metadata": {},
   "outputs": [],
   "source": [
    "num1 = int(input('첫번째 양수 :'))\n",
    "num2 = int(input('두번째 양수 :'))\n",
    "sum = 0\n",
    "for i in range(num1, num2+1): # i는 num1 과 num2 사이의 값을 가짐\n",
    "    sum += i # a+=b -> a= a+b\n",
    "print('sum :', sum)\n",
    "    \n",
    "    "
   ]
  },
  {
   "cell_type": "code",
   "execution_count": null,
   "metadata": {},
   "outputs": [],
   "source": [
    "mystring = 'asnfdlanelfnalkdfladfa'\n",
    "lenth=len(mystring)\n",
    "\n",
    "mystring[::-1]"
   ]
  },
  {
   "cell_type": "code",
   "execution_count": null,
   "metadata": {},
   "outputs": [],
   "source": [
    "restr=''\n",
    "while lenth>= 1 :\n",
    "    restr += mystring[lenth-1]\n",
    "    lenth -= 1\n",
    "print(restr)"
   ]
  },
  {
   "cell_type": "code",
   "execution_count": null,
   "metadata": {},
   "outputs": [],
   "source": [
    "for i in range(lenth):\n",
    "    print(mystring[-i-1])"
   ]
  },
  {
   "cell_type": "code",
   "execution_count": null,
   "metadata": {},
   "outputs": [],
   "source": [
    "mystring = 'd f g e  ek ieirfi iewkr  kskfn k '\n",
    "stri=mystring.split()"
   ]
  },
  {
   "cell_type": "code",
   "execution_count": null,
   "metadata": {},
   "outputs": [],
   "source": [
    "stri\n",
    "print(stri)"
   ]
  },
  {
   "cell_type": "code",
   "execution_count": null,
   "metadata": {},
   "outputs": [],
   "source": [
    "yang = int(input('눌러 :'))\n",
    "while True:\n",
    "    yang\n",
    "    if yang <= 0 :\n",
    "        print('잘못 쳤다')\n",
    "    else :\n",
    "        print(yang)\n",
    "        break\n",
    "    "
   ]
  },
  {
   "cell_type": "markdown",
   "metadata": {},
   "source": [
    "# 자료구조\n",
    "*set은 집합을 구성할 수 있는 자료 구조입니다. 여기에서 말하는 집합이란 중복된 자료는 존재하지 않고 오직 자료들간의 순서는 없는 자료구조. set은 {}을 이용하여 나타냄.빈 집합은 set()으로 나타냄"
   ]
  },
  {
   "cell_type": "code",
   "execution_count": null,
   "metadata": {},
   "outputs": [],
   "source": [
    "myset = {1,2,3,4}\n",
    "print(myset)"
   ]
  },
  {
   "cell_type": "code",
   "execution_count": null,
   "metadata": {},
   "outputs": [],
   "source": [
    "num = 5\n",
    "myset.add(num)\n",
    "print(myset)"
   ]
  },
  {
   "cell_type": "code",
   "execution_count": null,
   "metadata": {},
   "outputs": [],
   "source": [
    "mystr='hello, python'\n",
    "myset.add(mystr)\n",
    "print(myset)"
   ]
  },
  {
   "cell_type": "code",
   "execution_count": null,
   "metadata": {},
   "outputs": [],
   "source": [
    "setlen= len(myset)"
   ]
  },
  {
   "cell_type": "code",
   "execution_count": null,
   "metadata": {},
   "outputs": [],
   "source": [
    "print(setlen)\n",
    "print('\\n%s 추가하기' %setlen)"
   ]
  },
  {
   "cell_type": "code",
   "execution_count": null,
   "metadata": {},
   "outputs": [],
   "source": [
    "myset.remove(mystr)\n",
    "print(myset)"
   ]
  },
  {
   "cell_type": "code",
   "execution_count": null,
   "metadata": {},
   "outputs": [],
   "source": [
    "newset=set()\n",
    "for i in range(10):\n",
    "    if str(i).isdigit():\n",
    "        newset.add(i)\n",
    "print(newset)\n",
    "result = sum(newset)\n",
    "print(result)"
   ]
  },
  {
   "cell_type": "code",
   "execution_count": null,
   "metadata": {},
   "outputs": [],
   "source": [
    "myset = { 3,4,5,6}\n",
    "numset = { i for i in myset if i%2 ==1}\n",
    "print(numset)"
   ]
  },
  {
   "cell_type": "code",
   "execution_count": null,
   "metadata": {},
   "outputs": [],
   "source": [
    "numset = {i*i for i in range(10) if i % 2 ==1 }\n",
    "print(numset)"
   ]
  },
  {
   "cell_type": "code",
   "execution_count": null,
   "metadata": {},
   "outputs": [],
   "source": [
    "numset = {x*y for x in {1,2,3} for y in {2,3,4}}\n",
    "print(numset)"
   ]
  },
  {
   "cell_type": "markdown",
   "metadata": {},
   "source": [
    "# list\n",
    "-순서가 중요하며 자료의 중복도 가능한 자료구조입니다."
   ]
  },
  {
   "cell_type": "code",
   "execution_count": null,
   "metadata": {},
   "outputs": [],
   "source": [
    "mylist= [1,2,3,4,5]\n",
    "\n",
    "mylist= mylist + [5,6,7,8,9]\n",
    "print(mylist)"
   ]
  },
  {
   "cell_type": "code",
   "execution_count": null,
   "metadata": {},
   "outputs": [],
   "source": [
    "mylist = [1,2,3,4,5]\n",
    "mylist = mylist + [[77,22,11],{22,33,44,55},'hello']\n",
    "print(mylist)"
   ]
  },
  {
   "cell_type": "code",
   "execution_count": null,
   "metadata": {},
   "outputs": [],
   "source": [
    "mylist = [1,2,3,4,5]\n",
    "mylist.append([9,8,7,6,5,4])\n",
    "print(mylist)\n",
    "mylist.append({5,2,3,1,2})\n",
    "print(mylist)"
   ]
  },
  {
   "cell_type": "code",
   "execution_count": null,
   "metadata": {},
   "outputs": [],
   "source": [
    "mylist = [1,2,3,4,5]\n",
    "pos = mylist.index(4)\n",
    "mylist.insert(pos+1,5)\n",
    "print(mylist)\n",
    "\n",
    "mylist = ['월','화','수','목','금']\n",
    "post = mylist.index('목')\n",
    "mylist.insert(pos+1,'금')\n",
    "print(mylist)"
   ]
  },
  {
   "cell_type": "code",
   "execution_count": null,
   "metadata": {},
   "outputs": [],
   "source": [
    "mylist=[1,2,3,4,5,6]\n",
    "print(mylist)\n",
    "del mylist[3]\n",
    "print(mylist)"
   ]
  },
  {
   "cell_type": "code",
   "execution_count": null,
   "metadata": {},
   "outputs": [],
   "source": [
    "mylist = [1,2,3,4,5,6,6]\n",
    "print(mylist)\n",
    "mylist.remove(3)\n",
    "print(mylist)\n",
    "mylist = ['월']\n",
    "mylist.remove('월')\n",
    "print(mylist)"
   ]
  },
  {
   "cell_type": "code",
   "execution_count": null,
   "metadata": {},
   "outputs": [],
   "source": [
    "mylist = [1,2,3,4,5,6,6,7]\n",
    "print(mylist)\n",
    "\n",
    "cnt = mylist.count(6)\n",
    "print(cnt)\n"
   ]
  },
  {
   "cell_type": "code",
   "execution_count": null,
   "metadata": {},
   "outputs": [],
   "source": [
    "mylist = [1,2,3,4,5,6,6,7]\n",
    "mylist.sort()#원본데이터를 정렬\n",
    "print(mylist)\n",
    "mylist.sort(reverse = True)#내림차순\n",
    "print(mylist)\n",
    "sorted(mylist) #원본 데이터 유지\n",
    "print(mylist)"
   ]
  },
  {
   "cell_type": "code",
   "execution_count": null,
   "metadata": {},
   "outputs": [],
   "source": [
    "mylist = [1,2,3,4,5,6,6,6,7,7,8,8]\n",
    "sortedlist = sorted(mylist)\n",
    "print(sortedlist)\n",
    "\n",
    "sortedlist = sorted(mylist, reverse = True)\n",
    "print(sortedlist)"
   ]
  },
  {
   "cell_type": "code",
   "execution_count": null,
   "metadata": {},
   "outputs": [],
   "source": [
    "#리스트에서 인덱스와 그에 해당하는 요소를 튜플형태로 가져올 수 있다.\n",
    "mylist = [1,2,3,4,5,5,6,7,7,8,9,9,9]\n",
    "for i,v in enumerate(mylist):\n",
    "    print(i,v, sep=':',end=' , ')"
   ]
  },
  {
   "cell_type": "code",
   "execution_count": null,
   "metadata": {},
   "outputs": [],
   "source": [
    "result = [x * 2 for x in [1,2,3,4,5]]\n",
    "print(result)"
   ]
  },
  {
   "cell_type": "code",
   "execution_count": null,
   "metadata": {},
   "outputs": [],
   "source": [
    "result = [x * x for x in {5,6,7,7,8}]\n",
    "print(result)"
   ]
  },
  {
   "cell_type": "code",
   "execution_count": null,
   "metadata": {},
   "outputs": [],
   "source": [
    "namelist = ['홍길동','마구','도둑','기냥','딥러닝']\n",
    "print(namelist[0],namelist[3])\n",
    "namelist[0] = '수퍼맨'\n",
    "namelist"
   ]
  },
  {
   "cell_type": "code",
   "execution_count": null,
   "metadata": {},
   "outputs": [],
   "source": [
    "numlist = [0,102,2,3,4,2,3,434,33]\n",
    "print(numlist[:2])\n",
    "print(numlist[5:])\n",
    "print(numlist[2:5])"
   ]
  },
  {
   "cell_type": "code",
   "execution_count": null,
   "metadata": {},
   "outputs": [],
   "source": [
    "#패킹\n",
    "data = [1,2,3,4,5]\n",
    "#언패킹\n",
    "[a,b,c,d,e] = data\n",
    "print(a,b,c,d,e)\n",
    "a,b,c,d,e =data\n",
    "print(a,b,c,d,e)"
   ]
  },
  {
   "cell_type": "code",
   "execution_count": null,
   "metadata": {},
   "outputs": [],
   "source": [
    "#map함수를 이용하여 float 형을 int형으로 바꿔줌, map(함수,리스트값)\n",
    "numlist = [1.1,4.4,2.2,7.7]\n",
    "intnumlist = list(map(int,numlist))\n",
    "print(intnumlist)"
   ]
  },
  {
   "cell_type": "code",
   "execution_count": null,
   "metadata": {},
   "outputs": [],
   "source": [
    "def addone(input):\n",
    "    return input +1\n",
    "numlist = [1.1,4.4,2.2,7.7]\n",
    "addonenumlist = list(map(addone,numlist))\n",
    "print(addonenumlist)"
   ]
  },
  {
   "cell_type": "markdown",
   "metadata": {},
   "source": [
    "# tuple\n",
    "리스트와 마찬가지로 순서가 중요하며 자로ㅛ의 중복도 가능한 자료구조입니다. 일반괄호()를 이용하여 나타내며 이 자료 구조의 특징은 변경이 불가능하다는데 있습니다. 즉 한 번 생성된 튜플은 자료의 변경이 허락되지 않는다. 하나를 쓸 때는 뒤에 쉼표를 꼭 찍어줘야됨"
   ]
  },
  {
   "cell_type": "code",
   "execution_count": null,
   "metadata": {},
   "outputs": [],
   "source": [
    "mytuple= 1\n",
    "type(mytuple)"
   ]
  },
  {
   "cell_type": "code",
   "execution_count": null,
   "metadata": {},
   "outputs": [],
   "source": [
    "mytuple = 1,\n",
    "type(mytuple)\n",
    "print(mytuple)"
   ]
  },
  {
   "cell_type": "code",
   "execution_count": null,
   "metadata": {},
   "outputs": [],
   "source": [
    "mytuple = (1,2,3,4,4,4,5,5,5)\n",
    "mytuple[1]"
   ]
  },
  {
   "cell_type": "code",
   "execution_count": null,
   "metadata": {},
   "outputs": [],
   "source": [
    "mytuple[0] = 5  #변경시도가 되지 않는다."
   ]
  },
  {
   "cell_type": "code",
   "execution_count": null,
   "metadata": {},
   "outputs": [],
   "source": [
    "list(zip([1,2,3,4],[5,6,7,8,8]))"
   ]
  },
  {
   "cell_type": "code",
   "execution_count": null,
   "metadata": {},
   "outputs": [],
   "source": [
    "a=[1,2,3,4]\n",
    "b=[5,6,7,8]\n",
    "list(zip(a,b))"
   ]
  },
  {
   "cell_type": "markdown",
   "metadata": {},
   "source": [
    "# Dictionary"
   ]
  },
  {
   "cell_type": "code",
   "execution_count": null,
   "metadata": {},
   "outputs": [],
   "source": [
    "mydic = {'a' : 0 , 'b' : 2 , 'c' : 3}\n",
    "mydic['a']"
   ]
  },
  {
   "cell_type": "code",
   "execution_count": null,
   "metadata": {},
   "outputs": [],
   "source": [
    "{'a' : 0 , 'b' : 2 , 'c' : 3}['b']"
   ]
  },
  {
   "cell_type": "code",
   "execution_count": null,
   "metadata": {},
   "outputs": [],
   "source": [
    "dict(a = 0 , b= 1, c= 3, d= 4)['b']"
   ]
  },
  {
   "cell_type": "code",
   "execution_count": null,
   "metadata": {},
   "outputs": [],
   "source": [
    "dict(zip(['a','b','c','d'],[0,1,2,3,4]))['c']"
   ]
  },
  {
   "cell_type": "code",
   "execution_count": null,
   "metadata": {},
   "outputs": [],
   "source": [
    "dict([('a',0),('b',2),('c',3)])"
   ]
  },
  {
   "cell_type": "code",
   "execution_count": null,
   "metadata": {},
   "outputs": [],
   "source": [
    "mydic['G'] if 'G' in mydic else 'not exist'"
   ]
  },
  {
   "cell_type": "code",
   "execution_count": null,
   "metadata": {},
   "outputs": [],
   "source": [
    "[k for k in {'a' : 0 , 'b':1, 'c' :2 ,'d' : 3}.keys()]\n",
    "[k for k in {'a' : 0 , 'b':1, 'c' :2 ,'d' : 3}.values()]"
   ]
  },
  {
   "cell_type": "code",
   "execution_count": null,
   "metadata": {},
   "outputs": [],
   "source": [
    "[k for k,v in {'a' : 0 , 'b':1, 'c' :2 ,'d' : 3}.items()]"
   ]
  },
  {
   "cell_type": "markdown",
   "metadata": {},
   "source": [
    "# 함수"
   ]
  },
  {
   "cell_type": "code",
   "execution_count": null,
   "metadata": {},
   "outputs": [],
   "source": [
    "def sayhello():\n",
    "    print('안녕하세요')\n",
    "\n",
    "sayhello()"
   ]
  },
  {
   "cell_type": "code",
   "execution_count": null,
   "metadata": {},
   "outputs": [],
   "source": [
    "def sayhello2(param):\n",
    "    print(param, '안녕하세요')\n",
    "sayhello2('김상현씨')"
   ]
  },
  {
   "cell_type": "code",
   "execution_count": null,
   "metadata": {},
   "outputs": [],
   "source": [
    "def printmyinfo(age,name):\n",
    "    print('내 나이는 {age}이며 내 이름은 {name} 입니다'.format(int(age),name))\n",
    "age = input('당신의 나이는?')\n",
    "name = input('당신의 이름?')\n",
    "printmyinfo(age, name)"
   ]
  },
  {
   "cell_type": "code",
   "execution_count": 3,
   "metadata": {},
   "outputs": [
    {
     "name": "stdout",
     "output_type": "stream",
     "text": [
      "1 + 5 = 6\n"
     ]
    }
   ],
   "source": [
    "def add(input1, input2):\n",
    "    return input1 + input2\n",
    "addresult = add(1,5)\n",
    "print('{} + {} = {}'.format(1,5,addresult))"
   ]
  },
  {
   "cell_type": "code",
   "execution_count": 6,
   "metadata": {},
   "outputs": [
    {
     "name": "stdout",
     "output_type": "stream",
     "text": [
      "input :힝\n"
     ]
    }
   ],
   "source": [
    "def needParam(param):\n",
    "    print('input :'+str(param))\n",
    "needParam('힝')"
   ]
  },
  {
   "cell_type": "code",
   "execution_count": 8,
   "metadata": {},
   "outputs": [
    {
     "name": "stdout",
     "output_type": "stream",
     "text": [
      "input Value :  hello\n"
     ]
    }
   ],
   "source": [
    "#default 값 설정 가능\n",
    "def needParam(param = 'hello'):\n",
    "    print('input Value : ',param)\n",
    "needParam()"
   ]
  },
  {
   "cell_type": "code",
   "execution_count": 9,
   "metadata": {},
   "outputs": [
    {
     "name": "stdout",
     "output_type": "stream",
     "text": [
      "집주인: 김상현 주소 : 마포구  가족 인원 : 3\n"
     ]
    }
   ],
   "source": [
    "def home(owner, numofpeople =4 , address= '서울'):\n",
    "    print('집주인: '+owner, '주소 : ' + address, ' 가족 인원 : '+ str(numofpeople))\n",
    "home(owner = '김상현',address ='마포구', numofpeople = 3)"
   ]
  },
  {
   "cell_type": "code",
   "execution_count": 10,
   "metadata": {},
   "outputs": [
    {
     "ename": "SyntaxError",
     "evalue": "positional argument follows keyword argument (<ipython-input-10-d6c26b367673>, line 3)",
     "output_type": "error",
     "traceback": [
      "\u001b[1;36m  File \u001b[1;32m\"<ipython-input-10-d6c26b367673>\"\u001b[1;36m, line \u001b[1;32m3\u001b[0m\n\u001b[1;33m    home(owner = '김상현','마포구', numofpeople = 3)\u001b[0m\n\u001b[1;37m                            ^\u001b[0m\n\u001b[1;31mSyntaxError\u001b[0m\u001b[1;31m:\u001b[0m positional argument follows keyword argument\n"
     ]
    }
   ],
   "source": [
    "def home(owner, numofpeople =4 , address= '서울'):\n",
    "    print('집주인: '+owner, '주소 : ' + address, ' 가족 인원 : '+ str(numofpeople))\n",
    "home(owner = '김상현','마포구', numofpeople = 3)"
   ]
  },
  {
   "cell_type": "code",
   "execution_count": 12,
   "metadata": {},
   "outputs": [
    {
     "name": "stdout",
     "output_type": "stream",
     "text": [
      "sum : 15\n"
     ]
    }
   ],
   "source": [
    "#하나의 변수의 여러개값을 넣을 시에 *변수를 쓴다\n",
    "def addnum(*nums):\n",
    "    sum = 0;\n",
    "    for x in nums :\n",
    "        sum+= x ;\n",
    "    \n",
    "    print('sum :', sum)\n",
    "addnum(1,2,3,4,5)"
   ]
  },
  {
   "cell_type": "code",
   "execution_count": 15,
   "metadata": {},
   "outputs": [
    {
     "name": "stdout",
     "output_type": "stream",
     "text": [
      "차 종류 : audi\n",
      "차 종류 : bmw\n",
      "차 종류 : benz\n"
     ]
    }
   ],
   "source": [
    "# **변수 는 딕셔너리 형태로 넣는다 *변수는 튜플형태\n",
    "def carinfos(**carplates):\n",
    "    for k in carplates.keys():\n",
    "        print('차 종류 :', k)\n",
    "carinfos(audi = '1234', bmw = '5634', benz='1234')"
   ]
  },
  {
   "cell_type": "code",
   "execution_count": 17,
   "metadata": {},
   "outputs": [
    {
     "name": "stdout",
     "output_type": "stream",
     "text": [
      "Audi - 1234 :\n",
      "BMW - 3552 :\n",
      "Benz - 94949 :\n"
     ]
    }
   ],
   "source": [
    "def carinfos(**carplates):\n",
    "    for (k,v) in carplates.items():\n",
    "        print('{} - {} :'.format(k,v))\n",
    "carinfos(Audi = '1234', BMW = '3552', Benz = '94949')"
   ]
  },
  {
   "cell_type": "code",
   "execution_count": 18,
   "metadata": {},
   "outputs": [
    {
     "name": "stdout",
     "output_type": "stream",
     "text": [
      "홍길동\n"
     ]
    }
   ],
   "source": [
    "def myinfo():\n",
    "    name = '홍길동'\n",
    "    def printmyinfo():\n",
    "        print(name)\n",
    "    printmyinfo()\n",
    "myinfo()"
   ]
  },
  {
   "cell_type": "code",
   "execution_count": 20,
   "metadata": {},
   "outputs": [
    {
     "name": "stdout",
     "output_type": "stream",
     "text": [
      "ab\n"
     ]
    }
   ],
   "source": [
    "def displayresult():\n",
    "    names = str()\n",
    "    def concatenate(name1, name2):\n",
    "        nonlocal names\n",
    "        names = names +name1+name2\n",
    "        print(names)\n",
    "    \n",
    "    concatenate('a','b')\n",
    "displayresult()"
   ]
  },
  {
   "cell_type": "code",
   "execution_count": 21,
   "metadata": {},
   "outputs": [
    {
     "name": "stdout",
     "output_type": "stream",
     "text": [
      "김철수\n"
     ]
    }
   ],
   "source": [
    "name = '김철수'\n",
    "def myinfo():\n",
    "    name = '홍길동'\n",
    "    def printmyinfo():\n",
    "        global name\n",
    "        print(name)\n",
    "    printmyinfo()\n",
    "myinfo()\n",
    "    "
   ]
  },
  {
   "cell_type": "code",
   "execution_count": 22,
   "metadata": {},
   "outputs": [
    {
     "name": "stdout",
     "output_type": "stream",
     "text": [
      "hello\n",
      "hello\n",
      "hello\n",
      "hello\n",
      "hello\n"
     ]
    }
   ],
   "source": [
    "def sayhello(count):\n",
    "    if count <= 0 :\n",
    "        return\n",
    "    print('hello')\n",
    "    sayhello(count-1)\n",
    "sayhello(5)"
   ]
  },
  {
   "cell_type": "code",
   "execution_count": 23,
   "metadata": {},
   "outputs": [
    {
     "name": "stdout",
     "output_type": "stream",
     "text": [
      "5 x4 x3 x2 x1 \n",
      " result : 120\n"
     ]
    }
   ],
   "source": [
    "def factorial(n):\n",
    "    if n ==1 :\n",
    "        print(1, end = ' ')\n",
    "        return 1\n",
    "    print(n, 'x', end = '')\n",
    "    return n*factorial(n-1)\n",
    "print('\\n','result :', factorial(5))"
   ]
  },
  {
   "cell_type": "code",
   "execution_count": 29,
   "metadata": {},
   "outputs": [
    {
     "name": "stdout",
     "output_type": "stream",
     "text": [
      "우리 진성이가 병원에 갔으면 좋겠다\n",
      "    히히히히히히\n"
     ]
    }
   ],
   "source": [
    "def documentFunction():\n",
    "    '''우리 진성이가 병원에 갔으면 좋겠다\n",
    "    히히히히히히'''\n",
    "print(documentFunction.__doc__)"
   ]
  },
  {
   "cell_type": "code",
   "execution_count": 31,
   "metadata": {},
   "outputs": [
    {
     "name": "stdout",
     "output_type": "stream",
     "text": [
      "[2.1, 3.2, 5.4, 8.7]\n"
     ]
    }
   ],
   "source": [
    "def addone(input):\n",
    "    return input + 1\n",
    "numlist = [1.1,2.2,4.4,7.7]\n",
    "addonenumlist = list(map(addone,numlist))\n",
    "print(addonenumlist)"
   ]
  },
  {
   "cell_type": "code",
   "execution_count": 32,
   "metadata": {},
   "outputs": [
    {
     "name": "stdout",
     "output_type": "stream",
     "text": [
      "[2.1, 5.4, 3.2, 8.7]\n"
     ]
    }
   ],
   "source": [
    "numlist = [1.1,4.4,2.2,7.7]\n",
    "addonenumlist = list(map(lambda x : x+1, numlist))\n",
    "print(addonenumlist)"
   ]
  },
  {
   "cell_type": "code",
   "execution_count": 34,
   "metadata": {},
   "outputs": [
    {
     "name": "stdout",
     "output_type": "stream",
     "text": [
      "[3, 7, 6, 11]\n"
     ]
    }
   ],
   "source": [
    "numlist = [1,4,2,6]\n",
    "numlist2 = [2,3,4,5]\n",
    "multiplynumlist=list(map(lambda x, y :x +y, numlist, numlist2))\n",
    "print(multiplynumlist)"
   ]
  },
  {
   "cell_type": "code",
   "execution_count": 35,
   "metadata": {},
   "outputs": [
    {
     "name": "stdout",
     "output_type": "stream",
     "text": [
      "[2.1, 5.4, 3.2, 8.7]\n"
     ]
    }
   ],
   "source": [
    "addfunc = lambda x: x+1\n",
    "numlist= [1.1,4.4,2.2,7.7]\n",
    "addonenumlist = list(map(addfunc,numlist))\n",
    "print(addonenumlist)"
   ]
  },
  {
   "cell_type": "code",
   "execution_count": 37,
   "metadata": {},
   "outputs": [
    {
     "name": "stdout",
     "output_type": "stream",
     "text": [
      "11\n"
     ]
    }
   ],
   "source": [
    "value = ( lambda x : x +1)(10)\n",
    "print(value)"
   ]
  },
  {
   "cell_type": "code",
   "execution_count": 38,
   "metadata": {},
   "outputs": [
    {
     "name": "stdout",
     "output_type": "stream",
     "text": [
      "15\n"
     ]
    }
   ],
   "source": [
    "input = 5\n",
    "value = (lambda x : x+input)(10)\n",
    "print(value)"
   ]
  },
  {
   "cell_type": "code",
   "execution_count": 39,
   "metadata": {},
   "outputs": [
    {
     "name": "stdout",
     "output_type": "stream",
     "text": [
      "15\n"
     ]
    }
   ],
   "source": [
    "input= 5\n",
    "vlaue =(lambda : input)()\n",
    "print(value)"
   ]
  },
  {
   "cell_type": "code",
   "execution_count": 41,
   "metadata": {},
   "outputs": [
    {
     "name": "stdout",
     "output_type": "stream",
     "text": [
      "[0, 1, 2, 3, 4, 5, 6, 7, 8, 9]\n",
      "['0', 1, '2', 3, '4', 5, '6', 7, '8', 9]\n"
     ]
    }
   ],
   "source": [
    "numlist = list(range(10))\n",
    "print(numlist)\n",
    "evennumlist = list(map(lambda x : str(x) if x %2== 0 else x, numlist))\n",
    "print(evennumlist)"
   ]
  },
  {
   "cell_type": "code",
   "execution_count": 42,
   "metadata": {},
   "outputs": [
    {
     "name": "stdout",
     "output_type": "stream",
     "text": [
      "[0, 1, 2, 3, 4, 5, 6, 7, 8, 9]\n",
      "[0, 2, 4, 6, 8]\n"
     ]
    }
   ],
   "source": [
    "#filter 함수 와 람다 함수를 이용하여 리스트의 데이터에서 짝수 추출하는 예제\n",
    "numlist = list(range(10))\n",
    "print(numlist)\n",
    "\n",
    "evennumlist = list(filter(lambda x: x%2 == 0 ,numlist))\n",
    "print(evennumlist)"
   ]
  },
  {
   "cell_type": "markdown",
   "metadata": {},
   "source": [
    "reduce 함수에 대해서 알아보도록 하겠습니다. reduce 함수는 리스트에서 순차적으로 매개변수를 가지고 와서 매개변수에 적응하는 함수입니다."
   ]
  },
  {
   "cell_type": "code",
   "execution_count": 43,
   "metadata": {},
   "outputs": [
    {
     "data": {
      "text/plain": [
       "28"
      ]
     },
     "execution_count": 43,
     "metadata": {},
     "output_type": "execute_result"
    }
   ],
   "source": [
    "from functools import reduce\n",
    "a = [1,2,3,4,5,6,7]\n",
    "(reduce(lambda x, y : x+y, a))"
   ]
  },
  {
   "cell_type": "code",
   "execution_count": 46,
   "metadata": {},
   "outputs": [
    {
     "data": {
      "text/plain": [
       "120"
      ]
     },
     "execution_count": 46,
     "metadata": {},
     "output_type": "execute_result"
    }
   ],
   "source": [
    "from functools import reduce\n",
    "def reduceFact(n):\n",
    "    return reduce(lambda x, y : x*y, range(1,n+1))\n",
    "reduceFact(5)"
   ]
  },
  {
   "cell_type": "code",
   "execution_count": 47,
   "metadata": {},
   "outputs": [
    {
     "name": "stdout",
     "output_type": "stream",
     "text": [
      "max : 8\n"
     ]
    }
   ],
   "source": [
    "from functools import reduce\n",
    "def findmax(n):\n",
    "    max = reduce(lambda x,y : x if x >y else y, n)\n",
    "    print('max :', max)\n",
    "a= [1,2,3,5,8,6,4,4]\n",
    "findmax(a)"
   ]
  },
  {
   "cell_type": "code",
   "execution_count": null,
   "metadata": {},
   "outputs": [],
   "source": []
  },
  {
   "cell_type": "code",
   "execution_count": null,
   "metadata": {},
   "outputs": [],
   "source": []
  },
  {
   "cell_type": "code",
   "execution_count": null,
   "metadata": {},
   "outputs": [],
   "source": []
  },
  {
   "cell_type": "code",
   "execution_count": null,
   "metadata": {},
   "outputs": [],
   "source": []
  }
 ],
 "metadata": {
  "kernelspec": {
   "display_name": "Python 3",
   "language": "python",
   "name": "python3"
  }
 },
 "nbformat": 4,
 "nbformat_minor": 2
}
