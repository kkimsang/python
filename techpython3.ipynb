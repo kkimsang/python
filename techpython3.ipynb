{
 "cells": [
  {
   "cell_type": "code",
   "execution_count": 19,
   "metadata": {},
   "outputs": [],
   "source": [
    "def count():\n",
    "    n= 0;\n",
    "    def called():\n",
    "        nonlocal n # nonlocal을 씀으로써 안의 n이 아니라 바깥의 n을 참조함\n",
    "        n = n+1\n",
    "        print('호출횟수 :' , n)\n",
    "    return called\n",
    "   # called 이라는 함수 객체를 반환 하는것이지 called 함수의 값을 반환하는 것이 아니다.\n",
    "counter = count()\n",
    " #이전값들을 계속 저장하고 있음."
   ]
  },
  {
   "cell_type": "code",
   "execution_count": 20,
   "metadata": {},
   "outputs": [
    {
     "name": "stdout",
     "output_type": "stream",
     "text": [
      "호출횟수 : 1\n",
      "호출횟수 : 2\n",
      "호출횟수 : 3\n"
     ]
    }
   ],
   "source": [
    "counter()\n",
    "counter()\n",
    "counter()"
   ]
  },
  {
   "cell_type": "code",
   "execution_count": 25,
   "metadata": {},
   "outputs": [
    {
     "name": "stdout",
     "output_type": "stream",
     "text": [
      "ab\n"
     ]
    }
   ],
   "source": [
    "\n",
    "def displayresult():\n",
    "    names = str()\n",
    "    def concatenate(name1, name2):\n",
    "        nonlocal names\n",
    "        names = names + name1 + name2\n",
    "        print(names)\n",
    "    concatenate('a','b')\n",
    "displayresult()"
   ]
  },
  {
   "cell_type": "code",
   "execution_count": 28,
   "metadata": {},
   "outputs": [
    {
     "name": "stdout",
     "output_type": "stream",
     "text": [
      "김철수\n"
     ]
    }
   ],
   "source": [
    "name = '김철수'\n",
    "def myinfo():\n",
    "    name = '홍길동'\n",
    "    def printmyinfo():\n",
    "        global name\n",
    "        print(name)\n",
    "    printmyinfo()\n",
    "myinfo()"
   ]
  },
  {
   "cell_type": "code",
   "execution_count": 29,
   "metadata": {},
   "outputs": [
    {
     "name": "stdout",
     "output_type": "stream",
     "text": [
      "[2.1, 5.4, 3.2, 8.7]\n"
     ]
    }
   ],
   "source": [
    "def addone(input):\n",
    "    return input + 1\n",
    "numlist = [1.1,4.4,2.2,7.7]\n",
    "addonenumlist = list(map(addone, numlist))\n",
    "print(addonenumlist)"
   ]
  },
  {
   "cell_type": "markdown",
   "metadata": {},
   "source": [
    "# 객체 지향 프로그래밍\n",
    "객체 지향 프로그래밍이라는 것은 프로그래밍의 패러다임중의 하나이며 이것을 최고의 패러다임이라는 방식을 이해하고 접근하기 보다는 왜 기존의 방식에 비해 어떤 차이점이 잇는가를 파악한것이 우선이다. 우선 객체라는 것은 객체의 상태를 나타내는 요소와 그상태를 변화시키는 행위를 포함하고 있습니다. 여기에서 우리가 해결하고자 하는 문제영역의 상태를 파악하고 그 상태를 해결하는 행위를 바로 이런 객체의 상태와 행위라는 개념에 매장시킬수가 있고 그 객체라는 것을 클래스라는 구현체를 통해 코드의 유지보수의 용이함과 생산성을"
   ]
  },
  {
   "cell_type": "code",
   "execution_count": 34,
   "metadata": {},
   "outputs": [],
   "source": [
    "#클래스 메소드 정의하기\n",
    "class car:\n",
    "    def displayCar(self): # self는 기본적으로 같고 뒤에 변수 추가할수 있다. \n",
    "        print('my car is 마세라티')"
   ]
  },
  {
   "cell_type": "code",
   "execution_count": 35,
   "metadata": {},
   "outputs": [
    {
     "name": "stdout",
     "output_type": "stream",
     "text": [
      "my car is 마세라티\n"
     ]
    }
   ],
   "source": [
    "mycar = car()\n",
    "mycar.displayCar()"
   ]
  },
  {
   "cell_type": "code",
   "execution_count": 40,
   "metadata": {},
   "outputs": [
    {
     "name": "stdout",
     "output_type": "stream",
     "text": [
      "my house's address is  서울\n"
     ]
    }
   ],
   "source": [
    "class house:\n",
    "    def __init__(self, address):\n",
    "        self.address = address #self는 class를 나타내고 의미는 house라는 클래스 안에 address 변수를 마듬\n",
    "    def displayaddress(self):\n",
    "        print(\"my house's address is \", self.address)\n",
    "myhouse = house('서울') # self를 제외한 변수만큼 초기화 해줘야댐\n",
    "\n",
    "myhouse.displayaddress()"
   ]
  },
  {
   "cell_type": "code",
   "execution_count": 41,
   "metadata": {},
   "outputs": [
    {
     "name": "stdout",
     "output_type": "stream",
     "text": [
      "Dfdf\n"
     ]
    }
   ],
   "source": [
    "class house:\n",
    "    def __init__(self, address = 'seoul'):\n",
    "        self.address = address # self.속성명 = 값\n",
    "    def displayaddress(self):\n",
    "        print(\"Dfdf\")\n",
    "myhouse = house()\n",
    "myhouse.displayaddress()"
   ]
  },
  {
   "cell_type": "code",
   "execution_count": 43,
   "metadata": {},
   "outputs": [
    {
     "name": "stdout",
     "output_type": "stream",
     "text": [
      "내 차 색깔은 red 이다\n",
      "my car is mac 이고 차량번호는 3333이다\n",
      "\n",
      "\n",
      "내 차 색깔은 black 이다\n",
      "my car is audi 이고 차량번호는 dkfjsif23이다\n"
     ]
    }
   ],
   "source": [
    "class car2:\n",
    "    def __init__(self, color, name ,plate):\n",
    "        self.color = color\n",
    "        self.carkind = name\n",
    "        self.plate = plate\n",
    "    def showcolor(self):\n",
    "        print('내 차 색깔은 {} 이다'.format(self.color))\n",
    "        \n",
    "    def displaycar(self):\n",
    "        self.showcolor() # class 내의 함수를 참조할때는 꼭 써준다\n",
    "        \n",
    "        print('my car is {} 이고 차량번호는 {}이다'.format(self.carkind, self.plate))\n",
    "        \n",
    "mycar1 = car2('red', 'mac', '3333')\n",
    "mycar1.displaycar();print('\\n')\n",
    "\n",
    "mycar2 = car2('black','audi','dkfjsif23')\n",
    "mycar2.displaycar()"
   ]
  },
  {
   "cell_type": "code",
   "execution_count": 44,
   "metadata": {},
   "outputs": [
    {
     "name": "stdout",
     "output_type": "stream",
     "text": [
      "내 차 색깔은 red 이다\n",
      "my car is mac 이고 차량번호는 3333이다\n",
      "\n",
      "\n",
      "내 차 색깔은 black 이다\n",
      "my car is audi 이고 차량번호는 dkfjsif23이다\n"
     ]
    }
   ],
   "source": [
    "class car2:\n",
    "    def __init__(self, color, name ,plate):\n",
    "        self.color = color\n",
    "        self.carkind = name\n",
    "        self.plate = plate\n",
    "        \n",
    "    def displaycar(self):\n",
    "        print('내 차 색깔은 {} 이다'.format(self.color)) # class 내의 함수를 참조할때는 꼭 써준다\n",
    "        \n",
    "        print('my car is {} 이고 차량번호는 {}이다'.format(self.carkind, self.plate))\n",
    "        \n",
    "mycar1 = car2('red', 'mac', '3333')\n",
    "mycar1.displaycar();print('\\n')\n",
    "\n",
    "mycar2 = car2('black','audi','dkfjsif23')\n",
    "mycar2.displaycar()"
   ]
  },
  {
   "cell_type": "code",
   "execution_count": 52,
   "metadata": {},
   "outputs": [
    {
     "name": "stdout",
     "output_type": "stream",
     "text": [
      "book name : cpp\n"
     ]
    }
   ],
   "source": [
    "class book :\n",
    "    def __init__(self, name):\n",
    "        self.__name = name # __name 은 private 속성으로 외부에서 접근 막아줌(값의 변경을 막아줌)\n",
    "    def display(self):\n",
    "        print('book name :',self.__name)\n",
    "mybook = book('cpp')\n",
    "mybook.__name = 'python'\n",
    "\n",
    "mybook.display()"
   ]
  },
  {
   "cell_type": "code",
   "execution_count": 56,
   "metadata": {},
   "outputs": [
    {
     "name": "stdout",
     "output_type": "stream",
     "text": [
      "\n",
      "after setName()\n",
      "\n",
      "getName()-> name : cpp\n"
     ]
    }
   ],
   "source": [
    "class book :\n",
    "    def __init__(self, name):\n",
    "        self.__name = name # __name 은 private 속성으로 외부에서 접근 막아줌(값의 변경을 막아줌)\n",
    "    def display(self):\n",
    "        print('book name :',self.__name)\n",
    "    def setName(self, name):\n",
    "        self__name = name\n",
    "    def getName(self ):\n",
    "        return self.__name\n",
    "mybook = book('cpp')\n",
    "mybook.__name = 'python'\n",
    "\n",
    "mybook.setName('python')\n",
    "print('\\nafter setName()')\n",
    "mybook.display\n",
    "\n",
    "name = mybook.getName()\n",
    "print('\\ngetName()-> name : {}'.format(name))"
   ]
  },
  {
   "cell_type": "code",
   "execution_count": 60,
   "metadata": {},
   "outputs": [
    {
     "name": "stdout",
     "output_type": "stream",
     "text": [
      "book name1 : python\n",
      "book name2 : python\n"
     ]
    }
   ],
   "source": [
    "class book:\n",
    "    def __init__(self, name ,name2):\n",
    "        self._name = name\n",
    "        self._name2 = name2\n",
    "    def display(self):\n",
    "        print('book name1 :', self._name)\n",
    "        print('book name2 :', self._name2)\n",
    "        \n",
    "mybook = book('cpp','java')\n",
    "mybook._name = 'python'\n",
    "mybook._name2 = 'python'\n",
    "\n",
    "mybook.display()"
   ]
  },
  {
   "cell_type": "code",
   "execution_count": 64,
   "metadata": {},
   "outputs": [
    {
     "name": "stdout",
     "output_type": "stream",
     "text": [
      "ca1 주인 : brown, car2 주인 : brown\n",
      "car1 w주인 : michael, car2 주인 : michael\n"
     ]
    }
   ],
   "source": [
    "class car3:\n",
    "    owner = 'brown' # 클래스변수는 각 함수마다 공통된 값을 갖을 때 사용\n",
    "    \n",
    "    def __init__(self, color):\n",
    "        self.color = color\n",
    "    def showcolor(self):\n",
    "        print('내 차의 색깔은 {}입니다'.format(self.color))\n",
    "    def changeowner(self, newowner):\n",
    "        car3.owner = newowner\n",
    "mycar1 = car3('red')\n",
    "mycar2 = car3('black')\n",
    "print('ca1 주인 : {}, car2 주인 : {}'.format(mycar1.owner,mycar2.owner))\n",
    "\n",
    "mycar2.changeowner('michael')\n",
    "print('car1 w주인 : {}, car2 주인 : {}'.format(mycar1.owner, mycar2.owner))"
   ]
  },
  {
   "cell_type": "code",
   "execution_count": 68,
   "metadata": {},
   "outputs": [
    {
     "name": "stdout",
     "output_type": "stream",
     "text": [
      "4\n"
     ]
    }
   ],
   "source": [
    "class adder :\n",
    "    @staticmethod\n",
    "    def add(a,b):\n",
    "        return a+b\n",
    "sum = adder.add(1,3)\n",
    "print(sum)"
   ]
  },
  {
   "cell_type": "code",
   "execution_count": 70,
   "metadata": {},
   "outputs": [
    {
     "name": "stdout",
     "output_type": "stream",
     "text": [
      "storename : bookstore\n"
     ]
    }
   ],
   "source": [
    "class bookstore:\n",
    "    storesign = 'bookstore'\n",
    "    \n",
    "    @classmethod\n",
    "    def showname(cls): #self 대신해서 cls 를 씀\n",
    "        print('storename :',cls.storesign)\n",
    "bookstore.showname()"
   ]
  },
  {
   "cell_type": "code",
   "execution_count": 73,
   "metadata": {},
   "outputs": [
    {
     "name": "stdout",
     "output_type": "stream",
     "text": [
      "parent , seoul\n",
      "밥먹기\n",
      "잠자기\n"
     ]
    }
   ],
   "source": [
    "class parent :\n",
    "    def __init__(self, name ='parent', address='seoul'):\n",
    "        self.name = name\n",
    "        self.address = address\n",
    "        print(self.name, ',',address)\n",
    "    def eat(self):\n",
    "        print('밥먹기')\n",
    "    \n",
    "    def sleep(self):\n",
    "        print('잠자기')\n",
    "myparent = parent()\n",
    "myparent.eat()\n",
    "myparent.sleep()"
   ]
  },
  {
   "cell_type": "code",
   "execution_count": 77,
   "metadata": {},
   "outputs": [
    {
     "name": "stdout",
     "output_type": "stream",
     "text": [
      "child\n",
      "밥먹기\n",
      "잠자기\n"
     ]
    }
   ],
   "source": [
    "class parent :\n",
    "    def __init__(self, name ='parent', address='seoul'):\n",
    "        self.name = name\n",
    "        self.address = address\n",
    "        print(self.name, ',',address)\n",
    "    def eat(self):\n",
    "        print('밥먹기')\n",
    "    \n",
    "    def sleep(self):\n",
    "        print('잠자기')\n",
    "class child(parent):\n",
    "    def __init__(self, name = 'child'):\n",
    "        self.name =name\n",
    "        print(self.name)\n",
    "me = child()\n",
    "me.eat()\n",
    "me.sleep()\n",
    "    "
   ]
  },
  {
   "cell_type": "code",
   "execution_count": null,
   "metadata": {},
   "outputs": [],
   "source": []
  }
 ],
 "metadata": {
  "kernelspec": {
   "display_name": "Python 3",
   "language": "python",
   "name": "python3"
  },
  "language_info": {
   "codemirror_mode": {
    "name": "ipython",
    "version": 3
   },
   "file_extension": ".py",
   "mimetype": "text/x-python",
   "name": "python",
   "nbconvert_exporter": "python",
   "pygments_lexer": "ipython3",
   "version": "3.7.0"
  }
 },
 "nbformat": 4,
 "nbformat_minor": 2
}
